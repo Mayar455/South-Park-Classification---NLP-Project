{
 "cells": [
  {
   "cell_type": "markdown",
   "metadata": {},
   "source": [
    "### South Park Klassifizierung\n",
    "In der Serie South Park gibt es viele unterschiedliche Charaktere und Sie möchten herausfinden, ob es möglich ist anhand der Texte zu erkennen, welcher Charakter gesprochen hat. Da es in South Park sehr viele Figuren gibt, beschließen Sie sich auf **Kyle** und **Cartman** zu beschränken.\n",
    "\n",
    "##### Aufgabenstellung\n",
    "\n",
    "1. Lesen Sie die ersten **10.000** Zeilen der Datei **SouthPark.csv** ein\n",
    "2. Filtern Sie die Tabelle so, dass nur noch die Zeilen von **Kyle** und **Cartman** enthalten bleiben.  \n",
    " Verwenden Sie dann die Spalte _Line_ und fügen Sie eine weitere Spalte _Character_ hinzu, die genau dann 1 ist,   \n",
    " wenn der Text von Cartman ist und 0, wenn er von Kyle ist.\n",
    "3. Teilen Sie Trainings- und Testdatensätze (gerne auch zusätzlich Validierungsdaten). \n",
    "4. Berechnen Sie eine **One-Hot Codierung** für alle Wörter der jeweiligen Zeilen.  \n",
    "   Denken Sie daran Satzzeichen vorher zu entfernen.  \n",
    "5. Führen Sie eine Klassifizerung mit einem **CNN** und den **One-Hot** codierten Zeilen durch.  \n",
    "Beschränken Sie hierbei die Sätze auf eine Maximallänge von 20 Wörtern und padden die zu kurzen Sätze,   \n",
    "indem Sie die verbleibenen Einträge mit 0 auffüllen.    \n",
    "6. Visualisieren Sie Accuracy und Loss je Epoche. \n",
    "7. Visualisieren Sie die Vorhersagen des Modells in einer **Confusionmatrix**. \n",
    "8. Finden Sie heraus, welche Wörter beim ersten Kernel (Index 0) am wichtigsten sind, bzw. die größte Aktivierung hervorrufen.  \n",
    "   Tipp:\n",
    "   Um auf die Kernels in Pytorch zuzugreifen, können Sie `kernels=model.conv1.weight.detach().clone()` verwenden, wobei _model_ Ihr   Modell ist und _conv1_ der erste Convolution-Layer.\n",
    "   Um auf die Aktivierungen des Conv. Layers mit *Keras* in ihrem CNN zuzugreifen, können sie hierfür bspw. eine Funktion definieren mit *keras.backend.function([model.input], [model.layers[0].output])* verwenden, wobei *model* ihr CNN ist. Übergeben Sie dieser Funktion   \n",
    "   ihre Trainingsdaten und greifen auf die Ausgabe des ersten Trainingsbeispiels mit Index 0 zu.\n",
    "\n",
    "\n",
    "Verwenden Sie für ihr CNN die folgenden **Parameter**:  \n",
    "   - Anzahl Kernel: 128\n",
    "   - Kernelgröße (Fenstergröße): 5\n",
    "   - Batchsize: 10\n",
    "   - Epochen: 10"
   ]
  },
  {
   "cell_type": "markdown",
   "metadata": {},
   "source": [
    "Step 1: Reading the first 10,000 lines of the file SouthPark.csv"
   ]
  },
  {
   "cell_type": "code",
   "execution_count": 27,
   "metadata": {},
   "outputs": [
    {
     "data": {
      "text/html": [
       "<div>\n",
       "<style scoped>\n",
       "    .dataframe tbody tr th:only-of-type {\n",
       "        vertical-align: middle;\n",
       "    }\n",
       "\n",
       "    .dataframe tbody tr th {\n",
       "        vertical-align: top;\n",
       "    }\n",
       "\n",
       "    .dataframe thead th {\n",
       "        text-align: right;\n",
       "    }\n",
       "</style>\n",
       "<table border=\"1\" class=\"dataframe\">\n",
       "  <thead>\n",
       "    <tr style=\"text-align: right;\">\n",
       "      <th></th>\n",
       "      <th>Season</th>\n",
       "      <th>Episode</th>\n",
       "      <th>Character</th>\n",
       "      <th>Line</th>\n",
       "    </tr>\n",
       "  </thead>\n",
       "  <tbody>\n",
       "    <tr>\n",
       "      <th>0</th>\n",
       "      <td>10</td>\n",
       "      <td>1</td>\n",
       "      <td>Stan</td>\n",
       "      <td>You guys, you guys! Chef is going away. \\n</td>\n",
       "    </tr>\n",
       "    <tr>\n",
       "      <th>1</th>\n",
       "      <td>10</td>\n",
       "      <td>1</td>\n",
       "      <td>Kyle</td>\n",
       "      <td>Going away? For how long?\\n</td>\n",
       "    </tr>\n",
       "    <tr>\n",
       "      <th>2</th>\n",
       "      <td>10</td>\n",
       "      <td>1</td>\n",
       "      <td>Stan</td>\n",
       "      <td>Forever.\\n</td>\n",
       "    </tr>\n",
       "    <tr>\n",
       "      <th>3</th>\n",
       "      <td>10</td>\n",
       "      <td>1</td>\n",
       "      <td>Chef</td>\n",
       "      <td>I'm sorry boys.\\n</td>\n",
       "    </tr>\n",
       "    <tr>\n",
       "      <th>4</th>\n",
       "      <td>10</td>\n",
       "      <td>1</td>\n",
       "      <td>Stan</td>\n",
       "      <td>Chef said he's been bored, so he joining a gro...</td>\n",
       "    </tr>\n",
       "  </tbody>\n",
       "</table>\n",
       "</div>"
      ],
      "text/plain": [
       "  Season Episode Character                                               Line\n",
       "0     10       1      Stan         You guys, you guys! Chef is going away. \\n\n",
       "1     10       1      Kyle                        Going away? For how long?\\n\n",
       "2     10       1      Stan                                         Forever.\\n\n",
       "3     10       1      Chef                                  I'm sorry boys.\\n\n",
       "4     10       1      Stan  Chef said he's been bored, so he joining a gro..."
      ]
     },
     "execution_count": 27,
     "metadata": {},
     "output_type": "execute_result"
    }
   ],
   "source": [
    "import pandas as pd\n",
    "import numpy as np\n",
    "import re\n",
    "from sklearn.model_selection import train_test_split\n",
    "from tensorflow.keras.preprocessing.text import Tokenizer\n",
    "from tensorflow.keras.preprocessing.sequence import pad_sequences\n",
    "from keras.models import Sequential\n",
    "from keras.layers import Conv1D, GlobalMaxPooling1D, Dense\n",
    "import matplotlib.pyplot as plt\n",
    "from sklearn.metrics import confusion_matrix, ConfusionMatrixDisplay\n",
    "\n",
    "# Load the SouthPark data\n",
    "file_path = r'C:\\\\Users\\\\Atiq\\\\Downloads\\\\NLP HW2\\\\SouthPark.csv'\n",
    "data = pd.read_csv(file_path, nrows=10000)\n",
    "\n",
    "# Display the first few rows of the dataframe\n",
    "data.head()"
   ]
  },
  {
   "cell_type": "markdown",
   "metadata": {},
   "source": [
    "Step 2: Filtering the table to only include lines from Kyle and Cartman."
   ]
  },
  {
   "cell_type": "code",
   "execution_count": 28,
   "metadata": {},
   "outputs": [
    {
     "data": {
      "text/html": [
       "<div>\n",
       "<style scoped>\n",
       "    .dataframe tbody tr th:only-of-type {\n",
       "        vertical-align: middle;\n",
       "    }\n",
       "\n",
       "    .dataframe tbody tr th {\n",
       "        vertical-align: top;\n",
       "    }\n",
       "\n",
       "    .dataframe thead th {\n",
       "        text-align: right;\n",
       "    }\n",
       "</style>\n",
       "<table border=\"1\" class=\"dataframe\">\n",
       "  <thead>\n",
       "    <tr style=\"text-align: right;\">\n",
       "      <th></th>\n",
       "      <th>Season</th>\n",
       "      <th>Episode</th>\n",
       "      <th>Character</th>\n",
       "      <th>Line</th>\n",
       "      <th>CharacterLabel</th>\n",
       "    </tr>\n",
       "  </thead>\n",
       "  <tbody>\n",
       "    <tr>\n",
       "      <th>1</th>\n",
       "      <td>10</td>\n",
       "      <td>1</td>\n",
       "      <td>Kyle</td>\n",
       "      <td>Going away? For how long?\\n</td>\n",
       "      <td>0</td>\n",
       "    </tr>\n",
       "    <tr>\n",
       "      <th>9</th>\n",
       "      <td>10</td>\n",
       "      <td>1</td>\n",
       "      <td>Cartman</td>\n",
       "      <td>I'm gonna miss him.  I'm gonna miss Chef and I...</td>\n",
       "      <td>1</td>\n",
       "    </tr>\n",
       "    <tr>\n",
       "      <th>19</th>\n",
       "      <td>10</td>\n",
       "      <td>1</td>\n",
       "      <td>Kyle</td>\n",
       "      <td>Draw two card, fatass.\\n</td>\n",
       "      <td>0</td>\n",
       "    </tr>\n",
       "    <tr>\n",
       "      <th>20</th>\n",
       "      <td>10</td>\n",
       "      <td>1</td>\n",
       "      <td>Cartman</td>\n",
       "      <td>Reverse to you, Jew. \\n</td>\n",
       "      <td>1</td>\n",
       "    </tr>\n",
       "    <tr>\n",
       "      <th>24</th>\n",
       "      <td>10</td>\n",
       "      <td>1</td>\n",
       "      <td>Kyle</td>\n",
       "      <td>Yeah!\\n</td>\n",
       "      <td>0</td>\n",
       "    </tr>\n",
       "  </tbody>\n",
       "</table>\n",
       "</div>"
      ],
      "text/plain": [
       "   Season Episode Character  \\\n",
       "1      10       1      Kyle   \n",
       "9      10       1   Cartman   \n",
       "19     10       1      Kyle   \n",
       "20     10       1   Cartman   \n",
       "24     10       1      Kyle   \n",
       "\n",
       "                                                 Line  CharacterLabel  \n",
       "1                         Going away? For how long?\\n               0  \n",
       "9   I'm gonna miss him.  I'm gonna miss Chef and I...               1  \n",
       "19                           Draw two card, fatass.\\n               0  \n",
       "20                            Reverse to you, Jew. \\n               1  \n",
       "24                                            Yeah!\\n               0  "
      ]
     },
     "execution_count": 28,
     "metadata": {},
     "output_type": "execute_result"
    }
   ],
   "source": [
    "# Filter data for Kyle and Cartman\n",
    "filtered_data = data[data['Character'].isin(['Kyle', 'Cartman'])].copy()\n",
    "filtered_data['CharacterLabel'] = np.where(filtered_data['Character'] == 'Cartman', 1, 0)\n",
    "\n",
    "# Display the first few rows of the filtered dataframe\n",
    "filtered_data.head()"
   ]
  },
  {
   "cell_type": "markdown",
   "metadata": {},
   "source": [
    "Step 3: Spliting the data into training and test dataset"
   ]
  },
  {
   "cell_type": "code",
   "execution_count": 29,
   "metadata": {},
   "outputs": [
    {
     "name": "stdout",
     "output_type": "stream",
     "text": [
      "Training data size: 1933\n",
      "Test data size: 484\n"
     ]
    }
   ],
   "source": [
    "# Split the data into training and testing sets\n",
    "X_train, X_test, y_train, y_test = train_test_split(\n",
    "    filtered_data['Line'], filtered_data['CharacterLabel'], test_size=0.2, random_state=42\n",
    ")\n",
    "\n",
    "# Display the size of each dataset\n",
    "print(f\"Training data size: {len(X_train)}\")\n",
    "print(f\"Test data size: {len(X_test)}\")"
   ]
  },
  {
   "cell_type": "markdown",
   "metadata": {},
   "source": [
    "Step 4: Performing one-hot encoding for all word\n"
   ]
  },
  {
   "cell_type": "code",
   "execution_count": 30,
   "metadata": {
    "scrolled": true
   },
   "outputs": [],
   "source": [
    "# Text cleaning\n",
    "def clean_text(text):\n",
    "    text = re.sub(r'[^\\w\\s]', '', text)\n",
    "    return text\n",
    "\n",
    "X_train_clean = X_train.apply(clean_text)\n",
    "X_test_clean = X_test.apply(clean_text)\n",
    "\n",
    "# Tokenize the text\n",
    "tokenizer = Tokenizer()\n",
    "tokenizer.fit_on_texts(X_train_clean)\n",
    "\n",
    "X_train_seq = tokenizer.texts_to_sequences(X_train_clean)\n",
    "X_test_seq = tokenizer.texts_to_sequences(X_test_clean)\n",
    "\n",
    "# Pad the sequences to a maximum length of 20 words\n",
    "max_length = 20\n",
    "X_train_pad = pad_sequences(X_train_seq, maxlen=max_length, padding='post')\n",
    "X_test_pad = pad_sequences(X_test_seq, maxlen=max_length, padding='post')"
   ]
  },
  {
   "cell_type": "markdown",
   "metadata": {},
   "source": [
    "Step 5: Performing classification with a CNN"
   ]
  },
  {
   "cell_type": "markdown",
   "metadata": {},
   "source": [
    "In the previous solution i used an embedding layer to transform text into dense vectors. I have tried to make the necessary corrections:\n",
    "\n",
    "- Removed the Embedding Layer, where Words are now directly represented as One-Hot encoded vectors instead of dense vectors.\n",
    "   \n",
    "- Implemented One-Hot Encoding: Where Each word in the text is converted into a One-Hot encoded vector, where only one element is 1 (indicating the presence of the word), and all others are 0.\n",
    "\n",
    "- The convolutional layer now operates directly on One-Hot encoded vectors,  allowing the model to learn important features from these representations."
   ]
  },
  {
   "cell_type": "code",
   "execution_count": 32,
   "metadata": {},
   "outputs": [
    {
     "name": "stdout",
     "output_type": "stream",
     "text": [
      "Epoch 1/10\n",
      "\u001b[1m155/155\u001b[0m \u001b[32m━━━━━━━━━━━━━━━━━━━━\u001b[0m\u001b[37m\u001b[0m \u001b[1m10s\u001b[0m 52ms/step - accuracy: 0.5751 - loss: 0.6810 - val_accuracy: 0.5866 - val_loss: 0.6529\n",
      "Epoch 2/10\n",
      "\u001b[1m155/155\u001b[0m \u001b[32m━━━━━━━━━━━━━━━━━━━━\u001b[0m\u001b[37m\u001b[0m \u001b[1m8s\u001b[0m 53ms/step - accuracy: 0.6727 - loss: 0.5772 - val_accuracy: 0.6770 - val_loss: 0.5927\n",
      "Epoch 3/10\n",
      "\u001b[1m155/155\u001b[0m \u001b[32m━━━━━━━━━━━━━━━━━━━━\u001b[0m\u001b[37m\u001b[0m \u001b[1m8s\u001b[0m 53ms/step - accuracy: 0.9443 - loss: 0.2527 - val_accuracy: 0.6873 - val_loss: 0.6227\n",
      "Epoch 4/10\n",
      "\u001b[1m155/155\u001b[0m \u001b[32m━━━━━━━━━━━━━━━━━━━━\u001b[0m\u001b[37m\u001b[0m \u001b[1m8s\u001b[0m 53ms/step - accuracy: 0.9737 - loss: 0.1055 - val_accuracy: 0.6796 - val_loss: 0.7008\n",
      "Epoch 5/10\n",
      "\u001b[1m155/155\u001b[0m \u001b[32m━━━━━━━━━━━━━━━━━━━━\u001b[0m\u001b[37m\u001b[0m \u001b[1m9s\u001b[0m 55ms/step - accuracy: 0.9812 - loss: 0.0671 - val_accuracy: 0.6899 - val_loss: 0.7072\n",
      "Epoch 6/10\n",
      "\u001b[1m155/155\u001b[0m \u001b[32m━━━━━━━━━━━━━━━━━━━━\u001b[0m\u001b[37m\u001b[0m \u001b[1m9s\u001b[0m 56ms/step - accuracy: 0.9789 - loss: 0.0578 - val_accuracy: 0.6667 - val_loss: 0.7528\n",
      "Epoch 7/10\n",
      "\u001b[1m155/155\u001b[0m \u001b[32m━━━━━━━━━━━━━━━━━━━━\u001b[0m\u001b[37m\u001b[0m \u001b[1m9s\u001b[0m 57ms/step - accuracy: 0.9812 - loss: 0.0484 - val_accuracy: 0.6873 - val_loss: 0.7987\n",
      "Epoch 8/10\n",
      "\u001b[1m155/155\u001b[0m \u001b[32m━━━━━━━━━━━━━━━━━━━━\u001b[0m\u001b[37m\u001b[0m \u001b[1m9s\u001b[0m 58ms/step - accuracy: 0.9833 - loss: 0.0437 - val_accuracy: 0.6693 - val_loss: 0.7980\n",
      "Epoch 9/10\n",
      "\u001b[1m155/155\u001b[0m \u001b[32m━━━━━━━━━━━━━━━━━━━━\u001b[0m\u001b[37m\u001b[0m \u001b[1m9s\u001b[0m 59ms/step - accuracy: 0.9757 - loss: 0.0526 - val_accuracy: 0.6693 - val_loss: 0.8211\n",
      "Epoch 10/10\n",
      "\u001b[1m155/155\u001b[0m \u001b[32m━━━━━━━━━━━━━━━━━━━━\u001b[0m\u001b[37m\u001b[0m \u001b[1m10s\u001b[0m 63ms/step - accuracy: 0.9798 - loss: 0.0482 - val_accuracy: 0.6848 - val_loss: 0.8315\n"
     ]
    }
   ],
   "source": [
    "# One-Hot encode the sequences\n",
    "vocab_size = len(tokenizer.word_index) + 1\n",
    "X_train_onehot = np.zeros((X_train_pad.shape[0], max_length, vocab_size), dtype=np.float32)\n",
    "X_test_onehot = np.zeros((X_test_pad.shape[0], max_length, vocab_size), dtype=np.float32)\n",
    "\n",
    "for i, seq in enumerate(X_train_pad):\n",
    "    for j, word_idx in enumerate(seq):\n",
    "        if word_idx != 0:\n",
    "            X_train_onehot[i, j, word_idx] = 1.0\n",
    "\n",
    "for i, seq in enumerate(X_test_pad):\n",
    "    for j, word_idx in enumerate(seq):\n",
    "        if word_idx != 0:\n",
    "            X_test_onehot[i, j, word_idx] = 1.0\n",
    "\n",
    "# Define the model\n",
    "model = Sequential()\n",
    "model.add(Conv1D(128, 5, activation='relu', input_shape=(max_length, vocab_size)))\n",
    "model.add(GlobalMaxPooling1D())\n",
    "model.add(Dense(10, activation='relu'))\n",
    "model.add(Dense(1, activation='sigmoid'))\n",
    "\n",
    "# Compile the model\n",
    "model.compile(optimizer='adam', loss='binary_crossentropy', metrics=['accuracy'])\n",
    "\n",
    "# Train the model\n",
    "history = model.fit(X_train_onehot, y_train, epochs=10, batch_size=10, validation_split=0.2)"
   ]
  },
  {
   "cell_type": "markdown",
   "metadata": {},
   "source": [
    "Step 6: Visualize accuracy and loss per epoch"
   ]
  },
  {
   "cell_type": "code",
   "execution_count": 33,
   "metadata": {
    "scrolled": true
   },
   "outputs": [
    {
     "data": {
      "image/png": "[encoded data removed]",
      "text/plain": [
       "<Figure size 1200x400 with 2 Axes>"
      ]
     },
     "metadata": {},
     "output_type": "display_data"
    }
   ],
   "source": [
    "# Plot accuracy and loss\n",
    "plt.figure(figsize=(12, 4))\n",
    "plt.subplot(1, 2, 1)\n",
    "plt.plot(history.history['accuracy'], label='accuracy')\n",
    "plt.plot(history.history['val_accuracy'], label='val_accuracy')\n",
    "plt.xlabel('Epoch')\n",
    "plt.ylabel('Accuracy')\n",
    "plt.legend()\n",
    "\n",
    "plt.subplot(1, 2, 2)\n",
    "plt.plot(history.history['loss'], label='loss')\n",
    "plt.plot(history.history['val_loss'], label='val_loss')\n",
    "plt.xlabel('Epoch')\n",
    "plt.ylabel('Loss')\n",
    "plt.legend()\n",
    "\n",
    "plt.show()"
   ]
  },
  {
   "cell_type": "markdown",
   "metadata": {},
   "source": [
    "Step 7: Visualize the model's predictions in a confusion matrix"
   ]
  },
  {
   "cell_type": "code",
   "execution_count": 34,
   "metadata": {},
   "outputs": [
    {
     "name": "stdout",
     "output_type": "stream",
     "text": [
      "\u001b[1m16/16\u001b[0m \u001b[32m━━━━━━━━━━━━━━━━━━━━\u001b[0m\u001b[37m\u001b[0m \u001b[1m0s\u001b[0m 19ms/step\n"
     ]
    },
    {
     "data": {
      "image/png": "[encoded data removed]",
      "text/plain": [
       "<Figure size 640x480 with 2 Axes>"
      ]
     },
     "metadata": {},
     "output_type": "display_data"
    }
   ],
   "source": [
    "# Evaluate the model\n",
    "y_pred = (model.predict(X_test_onehot) > 0.5).astype(\"int32\")\n",
    "\n",
    "# Confusion matrix\n",
    "cm = confusion_matrix(y_test, y_pred)\n",
    "disp = ConfusionMatrixDisplay(confusion_matrix=cm, display_labels=['Kyle', 'Cartman'])\n",
    "disp.plot()\n",
    "plt.show()"
   ]
  },
  {
   "cell_type": "markdown",
   "metadata": {},
   "source": [
    "Step 8: Find out which words are most important in the first kernel"
   ]
  },
  {
   "cell_type": "markdown",
   "metadata": {},
   "source": [
    "The error i encountered in the compiling of the following code was due to a mismatch in the shapes of the arrays when attempting to compute the dot product. The first_kernel and window arrays needed to have compatible shapes for element-wise multiplication.\n",
    "\n",
    "Given the model structure, the first convolutional layer has weights of shape (kernel_size, input_dim, num_filters). Here, input_dim is the vocabulary size, and num_filters is the number of filters in the Conv1D layer."
   ]
  },
  {
   "cell_type": "raw",
   "metadata": {},
   "source": [
    "# Accessing the first convolutional layer's weights\n",
    "conv_weights = model.layers[0].get_weights()[0]  # Shape: (kernel_size, vocab_size, num_filters)\n",
    "\n",
    "# focused on the first kernel (index 0)\n",
    "first_kernel = conv_weights[:, :, 0]  # Shape: (kernel_size, vocab_size)\n",
    "\n",
    "# Manually convolved the embeddings with the first kernel\n",
    "# This involves sliding the kernel over the embeddings and computing the dot product\n",
    "\n",
    "activations = []\n",
    "for i in range(vocab_size - first_kernel.shape[0] + 1):\n",
    "    window = conv_weights[i:i + first_kernel.shape[0], :]  # Shape: (kernel_size, vocab_size)\n",
    "    activation = np.sum(window * first_kernel)  # Compute the dot product\n",
    "    activations.append(activation)\n",
    "\n",
    "activations = np.array(activations)\n",
    "\n",
    "# Finding the indices of the top 10 highest absolute values in the activations\n",
    "top_indices = np.argsort(np.abs(activations))[-10:]\n",
    "\n",
    "# Converting indices to plain integers\n",
    "top_indices = top_indices.flatten().tolist()\n",
    "\n",
    "# Getting the corresponding words\n",
    "\n",
    "reverse_word_map = dict(map(reversed, tokenizer.word_index.items()))\n",
    "top_words = [reverse_word_map.get(i, 'Unknown') for i in top_indices]\n",
    "\n",
    "print(\"Most important words for the first kernel:\", top_words)"
   ]
  },
  {
   "cell_type": "markdown",
   "metadata": {},
   "source": [
    "To correctly identify the important words to the best of my knowledge, i needed to:\n",
    "\n",
    "-Get the weights of the first convolutional layer.\n",
    "\n",
    "-Focus on the weights corresponding to the first filter.\n",
    "\n",
    "-Aggregate the weights to determine the importance of each word in the vocabulary.\n",
    "\n",
    "Here's the corrected approach that i implemented:"
   ]
  },
  {
   "cell_type": "code",
   "execution_count": 35,
   "metadata": {},
   "outputs": [
    {
     "name": "stdout",
     "output_type": "stream",
     "text": [
      "Most important words for the first kernel: ['let', 'me', 'oh', 'here', 'dude', 'this', 'how', 'who', 'right', 'kyle']\n"
     ]
    }
   ],
   "source": [
    "import numpy as np\n",
    "\n",
    "# Access the first convolutional layer's weights\n",
    "conv_weights = model.layers[0].get_weights()[0]  # Shape: (kernel_size, vocab_size, num_filters)\n",
    "\n",
    "# We focus on the first kernel (index 0)\n",
    "first_kernel = conv_weights[:, :, 0]  # Shape: (kernel_size, vocab_size)\n",
    "\n",
    "# Sum the absolute values of the weights for each word across the kernel size\n",
    "word_importance = np.sum(np.abs(first_kernel), axis=0)  # Shape: (vocab_size,)\n",
    "\n",
    "# Find the indices of the top 10 highest values in the word_importance array\n",
    "top_indices = np.argsort(word_importance)[-10:]\n",
    "\n",
    "# Convert indices to plain integers\n",
    "top_indices = top_indices.flatten().tolist()\n",
    "\n",
    "# Get the corresponding words\n",
    "reverse_word_map = dict(map(reversed, tokenizer.word_index.items()))\n",
    "top_words = [reverse_word_map.get(i, 'Unknown') for i in top_indices]\n",
    "\n",
    "print(\"Most important words for the first kernel:\", top_words)\n"
   ]
  },
  {
   "cell_type": "markdown",
   "metadata": {},
   "source": [
    "Conclusion\n",
    "\n",
    "This corrected approach ensures the model uses One-Hot encoding instead of embeddings, providing a more accurate interpretation of the model’s decision-making process by allowing direct analysis of convolutional filter weights to identify important words."
   ]
  }
 ],
 "metadata": {
  "kernelspec": {
   "display_name": "Python 3 (ipykernel)",
   "language": "python",
   "name": "python3"
  },
  "language_info": {
   "codemirror_mode": {
    "name": "ipython",
    "version": 3
   },
   "file_extension": ".py",
   "mimetype": "text/x-python",
   "name": "python",
   "nbconvert_exporter": "python",
   "pygments_lexer": "ipython3",
   "version": "3.11.7"
  }
 },
 "nbformat": 4,
 "nbformat_minor": 4
}
